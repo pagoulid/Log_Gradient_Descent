{
 "cells": [
  {
   "cell_type": "code",
   "execution_count": 28,
   "metadata": {},
   "outputs": [],
   "source": [
    "import numpy as np\n",
    "import pandas as pd\n",
    "import gzip\n",
    "import codecs\n",
    "import chardet\n",
    "import math\n"
   ]
  },
  {
   "cell_type": "code",
   "execution_count": 29,
   "metadata": {},
   "outputs": [],
   "source": [
    "def compute_cost(features, values, theta):\n",
    "    \"\"\"\n",
    "    Compute the cost of a list of parameters, theta, given a list of features \n",
    "    (input data points) and values (output data points).\n",
    "    \"\"\"\n",
    "    \n",
    "    m = len(values)\n",
    "    h =  np.dot(features, theta) \n",
    "    \n",
    "    #h = np.add(h,bias)\n",
    "    loss = np.log(h +1) - np.log(values +1)\n",
    "    squares = np.square(loss)\n",
    "    sum_of_square_errors = squares.sum()   \n",
    "    sumcost = (sum_of_square_errors/2*m) \n",
    "    t = h + 1 \n",
    "         \n",
    "################    \n",
    "    part1 = 1/sum_of_square_errors\n",
    "    part2 = part1*features.T\n",
    "    f = (part2.dot(np.divide(loss,t))/m) \n",
    "################    \n",
    "   \n",
    "    return  sumcost , f\n",
    "    \n"
   ]
  },
  {
   "cell_type": "code",
   "execution_count": null,
   "metadata": {},
   "outputs": [],
   "source": []
  },
  {
   "cell_type": "code",
   "execution_count": 30,
   "metadata": {},
   "outputs": [],
   "source": [
    "def gradient_descent(features, values, theta,alpha, num_iterations):\n",
    "    \"\"\"\n",
    "    Perform gradient descent given a data set with an arbitrary number of features.\n",
    "    \"\"\"\n",
    "\n",
    "    # Write code here that performs num_iterations updates to the elements of theta.\n",
    "    # times. Every time you compute the cost for a given list of thetas, append it \n",
    "    # to cost_history.\n",
    "    \n",
    "    \n",
    "    cost_history = []\n",
    "    \n",
    "   \n",
    "    for k in range(num_iterations): \n",
    "        cost,f = compute_cost(features,values,theta)\n",
    "\n",
    "        if math.isnan(cost) == True or math.isinf(cost) == True:\n",
    "            break\n",
    "        \n",
    "        cost_history.append([cost,f])\n",
    "        \n",
    "        theta = theta - alpha*f # we need alpha as parameter in this way\n",
    "        \n",
    "    \n",
    "    \n",
    "    return theta , pd.DataFrame(cost_history,columns=['cost','gradients']) \n"
   ]
  },
  {
   "cell_type": "code",
   "execution_count": 31,
   "metadata": {},
   "outputs": [],
   "source": [
    "def process(new) :\n",
    "    primary = []\n",
    "    for dat in new :\n",
    "        sublist = []\n",
    "        for el in dat:\n",
    "            attr = ''\n",
    "            for k in range(len(el)):\n",
    "                if el[k] == '>' and el[k-1] == '\"' :\n",
    "                    while el[k+1]!='<' :\n",
    "                        k = k+1\n",
    "                        attr = attr + el[k]\n",
    "                    if attr[0]=='0' or attr[0]=='1' or attr[0]=='2' or attr[0]=='3' or attr[0]=='4' or attr[0]=='5' or attr[0] =='6' or attr[0]=='7' or attr[0]=='8' or attr[0]=='9' :\n",
    "                        \n",
    "                        attr = float(attr)\n",
    "                    sublist.append(attr)\n",
    "            \n",
    "        primary.append(sublist)\n",
    "    return primary\n",
    "    "
   ]
  },
  {
   "cell_type": "code",
   "execution_count": 32,
   "metadata": {},
   "outputs": [
    {
     "name": "stdout",
     "output_type": "stream",
     "text": [
      "        <gnm:Cell Row=\"0\" Col=\"2\" ValueType=\"60\">Tempmin</gnm:Cell>\n",
      "   Tempmed  Tempmin  Tempmax  Precipetated  Final\n",
      "0    27.30     23.9     32.5           0.0    0.0\n",
      "1    27.02     24.5     33.5           0.0    0.0\n",
      "2    24.82     22.4     29.9           0.0    1.0\n",
      "3    23.98     21.5     28.6           1.2    1.0\n",
      "4    23.82     21.0     28.3           0.0    0.0\n"
     ]
    }
   ],
   "source": [
    "import io\n",
    "import json\n",
    "path = '/home/pagoulid/Desktop/Gradient/beer.csv'\n",
    "with open(path,\"rb\") as fd :\n",
    "    gzip_fd = gzip.GzipFile(fileobj=fd)\n",
    "\n",
    "    df = pd.read_csv(gzip_fd, engine = 'c',encoding = 'utf-8', header=None)\n",
    "    df.to_csv('/home/pagoulid/Desktop/Gradient/test.csv')\n",
    "    labels = df[116:122]\n",
    "    labels =labels[0].tolist()\n",
    "    labels = labels[2:]\n",
    "    print(labels[0])\n",
    "    raw = df[123:2677]\n",
    "    raw = raw[0].tolist()\n",
    "    new = []\n",
    "    start = 0\n",
    "    for k in range(2555) :\n",
    "        last = 7*(k + 1)    \n",
    "        new.append(raw[start:last])\n",
    "        start = last\n",
    "        if last == 2555 :\n",
    "            break\n",
    "    \n",
    "    X = process(new)\n",
    "    col = ['Date','Tempmed','Tempmin','Tempmax','Precipetated','Final','Consume']\n",
    "    Frame = pd.DataFrame(X,columns = col)\n",
    "    Frame = Frame.fillna(Frame.mean())\n",
    "    xdata = Frame[col[1:len(col)-1]]\n",
    "    print(xdata.head())\n",
    " "
   ]
  },
  {
   "cell_type": "code",
   "execution_count": 33,
   "metadata": {},
   "outputs": [
    {
     "name": "stdout",
     "output_type": "stream",
     "text": [
      "0    25.461\n",
      "1    28.972\n",
      "2    30.814\n",
      "3    29.799\n",
      "4    28.900\n",
      "Name: Consume, dtype: float64\n"
     ]
    }
   ],
   "source": [
    "print(Frame['Consume'].head())"
   ]
  },
  {
   "cell_type": "code",
   "execution_count": 34,
   "metadata": {},
   "outputs": [],
   "source": [
    "def minmaxprocess(xbar) :\n",
    "    # test for minmaxscaler scaling\n",
    "\n",
    "    '''\n",
    "    plt.plot(xbar.max(axis = 0),'o')\n",
    "    plt.plot(xbar.min(axis = 0),'^')\n",
    "    '''\n",
    "    # large differences on each feature range of magnitude\n",
    "    # test for minmaxscaler scaling\n",
    "    mn = xbar.min(axis = 0)\n",
    "    xrange = (xbar - mn).max(axis = 0)\n",
    "    xscaled = (xbar - mn)/xrange\n",
    "    '''\n",
    "    plt.figure()\n",
    "    plt.plot(xscaled.max(axis = 0),'o')\n",
    "    plt.plot(xscaled.min(axis = 0),'^')\n",
    "    '''\n",
    "    return xscaled\n",
    "\n",
    "    "
   ]
  },
  {
   "cell_type": "code",
   "execution_count": 35,
   "metadata": {},
   "outputs": [],
   "source": [
    "def standard(xbar) :\n",
    "    norm = (xbar - xbar.mean())/(xbar.std())\n",
    "    print('standard size',norm.shape)\n",
    "    return norm\n",
    "    "
   ]
  },
  {
   "cell_type": "code",
   "execution_count": 36,
   "metadata": {},
   "outputs": [
    {
     "name": "stdout",
     "output_type": "stream",
     "text": [
      "                cost                                          gradients\n",
      "0      510635.507529  [-0.020991352863089986, -0.017195971208676865,...\n",
      "1      267749.370877  [-0.011636287924215104, -0.00953410608264786, ...\n",
      "2      207513.128815  [-0.009943753055829244, -0.008146854660111249,...\n",
      "3      171222.371669  [-0.009035338435701796, -0.007401996291217008,...\n",
      "4      145745.482566  [-0.00845165261049704, -0.006923206863500698, ...\n",
      "...              ...                                                ...\n",
      "79995     425.947650  [4.4720533296072956e-08, -2.247087083250581e-0...\n",
      "79996     425.947650  [4.471639825799488e-08, -2.2468793860835443e-0...\n",
      "79997     425.947650  [4.4712263639971705e-08, -2.2466717050214563e-...\n",
      "79998     425.947650  [4.470812937301179e-08, -2.2464640452091716e-0...\n",
      "79999     425.947650  [4.4703995491966294e-08, -2.246256404396026e-0...\n",
      "\n",
      "[80000 rows x 2 columns]\n",
      "[ 0.20329286  0.11408235  0.67208538 -0.05428879  5.56792899]\n"
     ]
    }
   ],
   "source": [
    "    from sklearn.model_selection import train_test_split\n",
    "    \n",
    "    newx = xdata.values\n",
    "    y =Frame['Consume'].values\n",
    "    y = y.T\n",
    "   \n",
    "    pre_x_train, pre_x_test, y_train, y_test = train_test_split(\n",
    "         newx, y, test_size=0.15, random_state=42)\n",
    "    \n",
    "    \n",
    "    x_train=pre_x_train\n",
    "    x_test= pre_x_test\n",
    "    \n",
    "    #x_train=minmaxprocess(pre_x_train)\n",
    "    #x_test= minmaxprocess(pre_x_test)\n",
    "    \n",
    "     #x_train=standard(pre_x_train)\n",
    "    #x_test= standard(pre_x_test)\n",
    "    \n",
    "    coeff = np.zeros(x_train.shape[1]) # init weights\n",
    "    \n",
    "   \n",
    "        \n",
    "    \n",
    "    a = 1.0 # learning rate\n",
    "    num = 80000 # iterations\n",
    "    #print(y_train)\n",
    "    costs , hist = gradient_descent(x_train, y_train, coeff,a, num)\n",
    "    print(hist)\n",
    "    print(costs)\n",
    "    "
   ]
  },
  {
   "cell_type": "code",
   "execution_count": 37,
   "metadata": {},
   "outputs": [
    {
     "name": "stdout",
     "output_type": "stream",
     "text": [
      "[0. 0. 0. 0. 0.]\n"
     ]
    }
   ],
   "source": [
    "print(coeff)"
   ]
  },
  {
   "cell_type": "code",
   "execution_count": 38,
   "metadata": {},
   "outputs": [
    {
     "name": "stdout",
     "output_type": "stream",
     "text": [
      "Accuracy :  0.6567900611744888\n"
     ]
    }
   ],
   "source": [
    "    from sklearn.metrics import r2_score\n",
    "    ypred = x_train.dot(costs)\n",
    "    \n",
    "    ytrain = np.round(y_train,0)\n",
    "    ypred = np.round(ypred,0)\n",
    "    print('Accuracy : ', r2_score(ytrain,ypred))"
   ]
  },
  {
   "cell_type": "code",
   "execution_count": 39,
   "metadata": {},
   "outputs": [
    {
     "name": "stdout",
     "output_type": "stream",
     "text": [
      "   origin  predict\n",
      "0    30.0     26.0\n",
      "1    33.0     32.0\n",
      "2    30.0     32.0\n",
      "3    22.0     27.0\n",
      "4    24.0     25.0\n"
     ]
    }
   ],
   "source": [
    "   \n",
    "    test = pd.DataFrame({'origin':ytrain,'predict':ypred},columns =['origin','predict'])\n",
    "    print(test.head())\n",
    "    test.to_csv('/home/pagoulid/Desktop/opttrresbeer2.csv')"
   ]
  },
  {
   "cell_type": "code",
   "execution_count": 40,
   "metadata": {},
   "outputs": [
    {
     "name": "stdout",
     "output_type": "stream",
     "text": [
      "Accuracy :  0.7113917871743243\n"
     ]
    }
   ],
   "source": [
    "    \n",
    "    typred = x_test.dot(costs)\n",
    "    \n",
    "    ytest = np.round(y_test,0)\n",
    "    typred = np.round(typred,0)\n",
    "    diff =np.abs((typred - ytest)).sum()/y_test.size\n",
    "    \n",
    "    print('Accuracy : ', r2_score(ytest,typred))\n",
    "    "
   ]
  },
  {
   "cell_type": "code",
   "execution_count": 41,
   "metadata": {},
   "outputs": [
    {
     "name": "stdout",
     "output_type": "stream",
     "text": [
      "   origin  predict\n",
      "0    26.0     26.0\n",
      "1    32.0     28.0\n",
      "2    30.0     30.0\n",
      "3    21.0     21.0\n",
      "4    26.0     28.0\n"
     ]
    }
   ],
   "source": [
    "    test1 = pd.DataFrame({'origin':ytest,'predict':typred},columns =['origin','predict'])\n",
    "    print(test1.head())\n",
    "    test1.to_csv('/home/pagoulid/Desktop/minmaxbeer.csv')"
   ]
  },
  {
   "cell_type": "code",
   "execution_count": 42,
   "metadata": {},
   "outputs": [
    {
     "data": {
      "text/plain": [
       "[<matplotlib.lines.Line2D at 0x7f56894f9310>]"
      ]
     },
     "execution_count": 42,
     "metadata": {},
     "output_type": "execute_result"
    },
    {
     "data": {
      "image/png": "[encoded data removed]",
      "text/plain": [
       "<Figure size 432x288 with 1 Axes>"
      ]
     },
     "metadata": {
      "needs_background": "light"
     },
     "output_type": "display_data"
    }
   ],
   "source": [
    "    import matplotlib.pyplot as plt\n",
    "    import pylab as p\n",
    "    yp = np.linspace(16,36,100)\n",
    "    m , b = np.polyfit(test1['predict'].values, test1['origin'].values, 1)\n",
    "    plt.plot(test1['predict'].values, test1['origin'].values, 'o')\n",
    "    plt.plot(test1['predict'].values, m*test1['predict'].values + b)"
   ]
  },
  {
   "cell_type": "code",
   "execution_count": 43,
   "metadata": {},
   "outputs": [
    {
     "data": {
      "text/html": [
       "<div>\n",
       "<style scoped>\n",
       "    .dataframe tbody tr th:only-of-type {\n",
       "        vertical-align: middle;\n",
       "    }\n",
       "\n",
       "    .dataframe tbody tr th {\n",
       "        vertical-align: top;\n",
       "    }\n",
       "\n",
       "    .dataframe thead th {\n",
       "        text-align: right;\n",
       "    }\n",
       "</style>\n",
       "<table border=\"1\" class=\"dataframe\">\n",
       "  <thead>\n",
       "    <tr style=\"text-align: right;\">\n",
       "      <th></th>\n",
       "      <th>In_range</th>\n",
       "      <th>Count</th>\n",
       "      <th>Total</th>\n",
       "    </tr>\n",
       "  </thead>\n",
       "  <tbody>\n",
       "    <tr>\n",
       "      <th>0</th>\n",
       "      <td>0</td>\n",
       "      <td>7</td>\n",
       "      <td>55</td>\n",
       "    </tr>\n",
       "    <tr>\n",
       "      <th>1</th>\n",
       "      <td>1</td>\n",
       "      <td>23</td>\n",
       "      <td>55</td>\n",
       "    </tr>\n",
       "    <tr>\n",
       "      <th>2</th>\n",
       "      <td>2</td>\n",
       "      <td>33</td>\n",
       "      <td>55</td>\n",
       "    </tr>\n",
       "    <tr>\n",
       "      <th>3</th>\n",
       "      <td>3</td>\n",
       "      <td>46</td>\n",
       "      <td>55</td>\n",
       "    </tr>\n",
       "    <tr>\n",
       "      <th>4</th>\n",
       "      <td>4</td>\n",
       "      <td>52</td>\n",
       "      <td>55</td>\n",
       "    </tr>\n",
       "  </tbody>\n",
       "</table>\n",
       "</div>"
      ],
      "text/plain": [
       "  In_range Count Total\n",
       "0        0     7    55\n",
       "1        1    23    55\n",
       "2        2    33    55\n",
       "3        3    46    55\n",
       "4        4    52    55"
      ]
     },
     "execution_count": 43,
     "metadata": {},
     "output_type": "execute_result"
    }
   ],
   "source": [
    "def eval_range(data): # look at what range of values i have a good estimation e.g. If ytrue included in a range of\n",
    "                    #(ypred-2,ypred+2) is this a good estimation??\n",
    "    df = pd.DataFrame(columns = ['In_range','Count','Total'])\n",
    "    arange=[0,1,2,3,4,5]\n",
    "    for r in range(len(arange)):\n",
    "        count = 0\n",
    "        for origin,predict in zip(data['origin'],data['predict']):\n",
    "        \n",
    "                \n",
    "                for k in range(r+1):\n",
    "                    \n",
    "                    if (int(origin) == int(predict)+k or int(origin) == int(predict)-k):\n",
    "                        count = count+1\n",
    "                        break\n",
    "    \n",
    "    \n",
    "        row = {'In_range':r,'Count':count,'Total':len(data)}\n",
    "        df=df.append(pd.Series(row),ignore_index=True)\n",
    "    return df\n",
    "new_test = eval_range(test1)\n",
    "new_train = eval_range(test)\n",
    "new_test.head()\n"
   ]
  },
  {
   "cell_type": "code",
   "execution_count": 44,
   "metadata": {},
   "outputs": [
    {
     "data": {
      "text/html": [
       "<div>\n",
       "<style scoped>\n",
       "    .dataframe tbody tr th:only-of-type {\n",
       "        vertical-align: middle;\n",
       "    }\n",
       "\n",
       "    .dataframe tbody tr th {\n",
       "        vertical-align: top;\n",
       "    }\n",
       "\n",
       "    .dataframe thead th {\n",
       "        text-align: right;\n",
       "    }\n",
       "</style>\n",
       "<table border=\"1\" class=\"dataframe\">\n",
       "  <thead>\n",
       "    <tr style=\"text-align: right;\">\n",
       "      <th></th>\n",
       "      <th>In_range</th>\n",
       "      <th>Count</th>\n",
       "      <th>Total</th>\n",
       "    </tr>\n",
       "  </thead>\n",
       "  <tbody>\n",
       "    <tr>\n",
       "      <th>0</th>\n",
       "      <td>0</td>\n",
       "      <td>38</td>\n",
       "      <td>310</td>\n",
       "    </tr>\n",
       "    <tr>\n",
       "      <th>1</th>\n",
       "      <td>1</td>\n",
       "      <td>120</td>\n",
       "      <td>310</td>\n",
       "    </tr>\n",
       "    <tr>\n",
       "      <th>2</th>\n",
       "      <td>2</td>\n",
       "      <td>195</td>\n",
       "      <td>310</td>\n",
       "    </tr>\n",
       "    <tr>\n",
       "      <th>3</th>\n",
       "      <td>3</td>\n",
       "      <td>254</td>\n",
       "      <td>310</td>\n",
       "    </tr>\n",
       "    <tr>\n",
       "      <th>4</th>\n",
       "      <td>4</td>\n",
       "      <td>293</td>\n",
       "      <td>310</td>\n",
       "    </tr>\n",
       "  </tbody>\n",
       "</table>\n",
       "</div>"
      ],
      "text/plain": [
       "  In_range Count Total\n",
       "0        0    38   310\n",
       "1        1   120   310\n",
       "2        2   195   310\n",
       "3        3   254   310\n",
       "4        4   293   310"
      ]
     },
     "execution_count": 44,
     "metadata": {},
     "output_type": "execute_result"
    }
   ],
   "source": [
    "new_train.head()"
   ]
  },
  {
   "cell_type": "code",
   "execution_count": null,
   "metadata": {},
   "outputs": [],
   "source": []
  },
  {
   "cell_type": "code",
   "execution_count": null,
   "metadata": {},
   "outputs": [],
   "source": [
    "   "
   ]
  },
  {
   "cell_type": "code",
   "execution_count": null,
   "metadata": {},
   "outputs": [],
   "source": []
  },
  {
   "cell_type": "code",
   "execution_count": null,
   "metadata": {},
   "outputs": [],
   "source": []
  },
  {
   "cell_type": "code",
   "execution_count": null,
   "metadata": {},
   "outputs": [],
   "source": []
  }
 ],
 "metadata": {
  "kernelspec": {
   "display_name": "Python 3",
   "language": "python",
   "name": "python3"
  },
  "language_info": {
   "codemirror_mode": {
    "name": "ipython",
    "version": 3
   },
   "file_extension": ".py",
   "mimetype": "text/x-python",
   "name": "python",
   "nbconvert_exporter": "python",
   "pygments_lexer": "ipython3",
   "version": "3.7.6"
  }
 },
 "nbformat": 4,
 "nbformat_minor": 4
}
